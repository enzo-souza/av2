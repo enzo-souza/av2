{
 "cells": [
  {
   "cell_type": "markdown",
   "metadata": {},
   "source": [
    "Av2"
   ]
  },
  {
   "cell_type": "markdown",
   "metadata": {},
   "source": [
    "questão 1\n"
   ]
  },
  {
   "cell_type": "code",
   "execution_count": 14,
   "metadata": {},
   "outputs": [
    {
     "name": "stdout",
     "output_type": "stream",
     "text": [
      "75\n",
      "1.3083333333333333\n",
      "tempo | distancia | altura\n",
      "0 | 0 | 0\n",
      "0 | 0 | 0\n",
      "1 | 12 | 43\n",
      "2 | 25 | 76\n",
      "3 | 38 | 100\n",
      "4 | 51 | 114\n",
      "5 | 64 | 118\n",
      "6 | 77 | 113\n",
      "7 | 90 | 97\n",
      "8 | 103 | 72\n",
      "9 | 116 | 37\n"
     ]
    }
   ],
   "source": [
    "#alternativa a\n",
    "import math\n",
    "\n",
    "angulo = int(input(\"digite um angulo\"))\n",
    "print(angulo)\n",
    "angulo = 3.14*angulo/180  # Convertendo para radianos\n",
    "print(angulo)\n",
    "velocidade_y = math.sin(angulo) * 50\n",
    "velocidade_x = math.cos(angulo) * 50\n",
    "tempo = 0\n",
    "y = 0\n",
    "x = 0\n",
    "\n",
    "print(f\"tempo | distancia | altura\")\n",
    "print(f\"{tempo} | {int(x)} | {int(y)}\")\n",
    "while y >= 0:\n",
    "    \n",
    "    x = velocidade_x*tempo\n",
    "    y = velocidade_y*tempo -(4.9*(tempo**2))\n",
    "    \n",
    "    if y>= 0:\n",
    "        print(f\"{tempo} | {int(x)} | {int(y)}\")\n",
    "    tempo += 1\n",
    "\n",
    "\n"
   ]
  },
  {
   "cell_type": "code",
   "execution_count": 48,
   "metadata": {},
   "outputs": [
    {
     "name": "stdout",
     "output_type": "stream",
     "text": [
      "tempo0: 0 | distancia 1: 0, altura 1: 0 || distancia 2: 0 | altura 2: 0\n",
      "tempo: 0 | distancia 1: 0, altura 1: 0 || distancia 2: 0 | altura 2: 0\n",
      "tempo: 1 | distancia 1: 25, altura 1: 38 || distancia 2: 43 | altura 2: 20\n",
      "tempo: 2 | distancia 1: 50, altura 1: 66 || distancia 2: 86 | altura 2: 30\n",
      "tempo: 3 | distancia 1: 75, altura 1: 85 || distancia 2: 129 | altura 2: 30\n",
      "tempo: 4 | distancia 1: 100, altura 1: 94 || distancia 2: 173 | altura 2: 21\n",
      "tempo: 5 | distancia 1: 125, altura 1: 93 || distancia 2: 216 | altura 2: 2\n",
      "tempo: 6 | distancia 1: 150, altura 1: 83 || distancia 2: 259 | altura 2: 0\n",
      "tempo: 7 | distancia 1: 175, altura 1: 62 || distancia 2: 259 | altura 2: 0\n",
      "tempo: 8 | distancia 1: 200, altura 1: 32 || distancia 2: 259 | altura 2: 0\n"
     ]
    }
   ],
   "source": [
    "#alternativa b\n",
    "import math\n",
    "tempo_b = 0\n",
    "\n",
    "angulo_1 = 60*3.14/180 #int(input(\"digite o angulo 1\"))*3.14/180  # Convertendo para radianos\n",
    "angulo_2 = 30*3.14/180 #int(input(\"digite o angulo 2\"))*3.14/180  # Convertendo para radianos\n",
    "\n",
    "vx_1 = math.cos(angulo_1)* 50\n",
    "vy_1 = math.sin(angulo_1)* 50\n",
    "y_1 = 0\n",
    "x_1 = 0\n",
    "\n",
    "vx_2 = math.cos(angulo_2)* 50\n",
    "vy_2 = math.sin(angulo_2)* 50\n",
    "y_2 = 0\n",
    "x_2 = 0\n",
    "\n",
    "# Inicializa y_1 e y_2\n",
    "y_1 = vy_1*tempo_b -(4.9*(tempo_b**2))\n",
    "y_2 = vy_2*tempo_b -(4.9*(tempo_b**2))\n",
    "print(f'tempo0: {tempo_b} | distancia 1: {int(x_1)}, altura 1: {int(y_1)} || distancia 2: {int(x_2)} | altura 2: {int(y_2)}')\n",
    "\n",
    "# O loop continua enquanto pelo menos um dos projéteis está no ar\n",
    "while y_1 >= 0 or y_2 >= 0:\n",
    "# Garante que não imprime valores negativos\n",
    "    altura_1 = int(y_1) if y_1 >= 0 else 0\n",
    "    altura_2 = int(y_2) if y_2 >= 0 else 0\n",
    "    distancia_1 = int(x_1)\n",
    "    distancia_2 = int(x_2)\n",
    "    print(f'tempo: {tempo_b} | distancia 1: {distancia_1}, altura 1: {altura_1} || distancia 2: {distancia_2} | altura 2: {altura_2}')\n",
    "    tempo_b += 1\n",
    "\n",
    "    # Só atualiza y_1 e x_1 se y_1 ainda não caiu\n",
    "    if y_1 >= 0:\n",
    "        y_1 = vy_1*tempo_b -(4.9*(tempo_b**2))\n",
    "        x_1 = vx_1 * tempo_b\n",
    "\n",
    "    # Só atualiza y_2 e x_2 se y_2 ainda não caiu\n",
    "    if y_2 >= 0:\n",
    "        y_2 = vy_2*tempo_b -(4.9*(tempo_b**2))  \n",
    "        x_2 = vx_2 * tempo_b"
   ]
  },
  {
   "cell_type": "code",
   "execution_count": 3,
   "metadata": {},
   "outputs": [
    {
     "name": "stdout",
     "output_type": "stream",
     "text": [
      "tempo0: 0 | distancia 1: 0, altura 1: 0 || distancia 2: 0 | altura 2: 0\n",
      "tempo: 0 | distancia 1: 0, altura 1: 0 || distancia 2: 0 | altura 2: 0\n",
      "tempo: 1 | distancia 1: 25, altura 1: 38 || distancia 2: 43 | altura 2: 20\n",
      "tempo: 2 | distancia 1: 50, altura 1: 66 || distancia 2: 86 | altura 2: 30\n",
      "tempo: 3 | distancia 1: 75, altura 1: 85 || distancia 2: 129 | altura 2: 30\n",
      "tempo: 4 | distancia 1: 100, altura 1: 94 || distancia 2: 173 | altura 2: 21\n",
      "tempo: 5 | distancia 1: 125, altura 1: 93 || distancia 2: 216 | altura 2: 2\n",
      "tempo: 6 | distancia 1: 150, altura 1: 83 || distancia 2: 259 | altura 2: 0\n",
      "tempo: 7 | distancia 1: 175, altura 1: 62 || distancia 2: 259 | altura 2: 0\n",
      "tempo: 8 | distancia 1: 200, altura 1: 32 || distancia 2: 259 | altura 2: 0\n",
      "tempo final: 9 | distancia 1: 225, altura 1: 0 || distancia 2: 259 | altura 2: 0\n",
      "Maior distância: 259\n"
     ]
    }
   ],
   "source": [
    "#alternativa c\n",
    "\n",
    "import math\n",
    "tempo_b = 0\n",
    "\n",
    "angulo_1 = 60*3.14/180 #int(input(\"digite o angulo 1\"))*3.14/180  # Convertendo para radianos\n",
    "angulo_2 = 30*3.14/180 #int(input(\"digite o angulo 2\"))*3.14/180  # Convertendo para radianos\n",
    "\n",
    "vx_1 = math.cos(angulo_1)* 50\n",
    "vy_1 = math.sin(angulo_1)* 50\n",
    "y_1 = 0\n",
    "x_1 = 0\n",
    "\n",
    "vx_2 = math.cos(angulo_2)* 50\n",
    "vy_2 = math.sin(angulo_2)* 50\n",
    "y_2 = 0\n",
    "x_2 = 0\n",
    "\n",
    "# Inicializa y_1 e y_2\n",
    "y_1 = vy_1*tempo_b -(4.9*(tempo_b**2))\n",
    "y_2 = vy_2*tempo_b -(4.9*(tempo_b**2))\n",
    "print(f'tempo0: {tempo_b} | distancia 1: {int(x_1)}, altura 1: {int(y_1)} || distancia 2: {int(x_2)} | altura 2: {int(y_2)}')\n",
    "\n",
    "# O loop continua enquanto pelo menos um dos projéteis está no ar\n",
    "while y_1 >= 0 or y_2 >= 0:\n",
    "    # Garante que não imprime valores negativos\n",
    "    altura_1 = int(y_1) if y_1 >= 0 else 0\n",
    "    altura_2 = int(y_2) if y_2 >= 0 else 0\n",
    "    distancia_1 = int(x_1)\n",
    "    distancia_2 = int(x_2)\n",
    "    print(f'tempo: {tempo_b} | distancia 1: {distancia_1}, altura 1: {altura_1} || distancia 2: {distancia_2} | altura 2: {altura_2}')\n",
    "    tempo_b += 1\n",
    "\n",
    "    # Só atualiza y_1 e x_1 se y_1 ainda não caiu\n",
    "    if y_1 >= 0:\n",
    "        y_1 = vy_1*tempo_b -(4.9*(tempo_b**2))\n",
    "        x_1 = vx_1 * tempo_b\n",
    "\n",
    "    # Só atualiza y_2 e x_2 se y_2 ainda não caiu\n",
    "    if y_2 >= 0:\n",
    "        y_2 = vy_2*tempo_b -(4.9*(tempo_b**2))  \n",
    "        x_2 = vx_2 * tempo_b\n",
    "\n",
    "# Calcula a distância final quando ambos y_1 e y_2 são zero\n",
    "distancia_final_1 = int(x_1)\n",
    "distancia_final_2 = int(x_2)\n",
    "print(f'tempo final: {tempo_b} | distancia 1: {distancia_final_1}, altura 1: 0 || distancia 2: {distancia_final_2} | altura 2: 0')\n",
    "\n",
    "# Mostra qual foi a maior distância\n",
    "maior_distancia = max(distancia_final_1, distancia_final_2)\n",
    "print(f'Maior distância: {maior_distancia}')"
   ]
  }
 ],
 "metadata": {
  "kernelspec": {
   "display_name": "base",
   "language": "python",
   "name": "python3"
  },
  "language_info": {
   "codemirror_mode": {
    "name": "ipython",
    "version": 3
   },
   "file_extension": ".py",
   "mimetype": "text/x-python",
   "name": "python",
   "nbconvert_exporter": "python",
   "pygments_lexer": "ipython3",
   "version": "3.12.7"
  }
 },
 "nbformat": 4,
 "nbformat_minor": 2
}
